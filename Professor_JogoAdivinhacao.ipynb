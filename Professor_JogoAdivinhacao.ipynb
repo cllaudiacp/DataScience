{
  "nbformat": 4,
  "nbformat_minor": 0,
  "metadata": {
    "colab": {
      "name": "Professor_JogoAdivinhacao.ipynb",
      "provenance": [],
      "collapsed_sections": [],
      "authorship_tag": "ABX9TyOMAgfDmjmLbJO3BAN5cNhi",
      "include_colab_link": true
    },
    "kernelspec": {
      "name": "python3",
      "display_name": "Python 3"
    }
  },
  "cells": [
    {
      "cell_type": "markdown",
      "metadata": {
        "id": "view-in-github",
        "colab_type": "text"
      },
      "source": [
        "<a href=\"https://colab.research.google.com/github/cllaudiacp/DataScience/blob/master/Professor_JogoAdivinhacao.ipynb\" target=\"_parent\"><img src=\"https://colab.research.google.com/assets/colab-badge.svg\" alt=\"Open In Colab\"/></a>"
      ]
    },
    {
      "cell_type": "code",
      "metadata": {
        "id": "ygRVfbrI0agM",
        "colab_type": "code",
        "colab": {}
      },
      "source": [
        "## EXEMPLO usando WHILE (Laço de Repetição)\n",
        "\n",
        "print('Bem vindo ao jogo de Adivinhação!')\n",
        "numero_secreto = 42\n",
        "total_tentativas = 3\n",
        "rodada = 1\n",
        "\n",
        "# print('O numero secreto é: ', numero_secreto) Podemos colocar variaveis como argumentos na função print\n",
        "# enquanto ainda tiver tentativas execute :\n",
        "while (rodada <= total_tentativas):\n",
        "  # print('Tentativa ', rodada, 'de', total_tentativas, 'tentativas')\n",
        "  print ('Tentativa: {} de {}'.format(rodada, total_tentativas))\n",
        "  \n",
        "  chute_str = input('Digite o seu número:')\n",
        "  print('Você digitou o numero: ', chute_str)\n",
        "  chute = int(chute_str)\n",
        "\n",
        "  acertou = chute == numero_secreto\n",
        "  menor = chute < numero_secreto\n",
        "\n",
        "  if (acertou):\n",
        "    print('Você acertou!')\n",
        "    break\n",
        "    # total_tentativas = 0\n",
        "  elif (menor):\n",
        "    print('O seu chute foi menor que o número secreto!')\n",
        "  else:\n",
        "    print('O seu chute foi maior que o número secreto!')\n",
        "\n",
        "  rodada += 1 # === rodada = rodada + 1\n",
        "\n",
        "print(\"Fim do jogo\")"
      ],
      "execution_count": null,
      "outputs": []
    },
    {
      "cell_type": "code",
      "metadata": {
        "id": "ksP7BMUE0mev",
        "colab_type": "code",
        "colab": {}
      },
      "source": [
        "## EXEMPLO usando FOR (Laço de Repetição)\n",
        "\n",
        "import random\n",
        "\n",
        "print('Bem vindo ao jogo de Adivinhação!')\n",
        "numero_secreto = random.randint(1, 100)\n",
        "total_tentativas = 0\n",
        "\n",
        "print('Qual nivel de dificuldade?')\n",
        "print('(1) Fácil (2) Médio (3) Difícil')\n",
        "\n",
        "nivel = int(input('Defina o nivel'))\n",
        "\n",
        "if (nivel == 1):\n",
        "  total_tentativas = 20\n",
        "elif (nivel == 2):\n",
        "  total_tentativas = 10\n",
        "elif (nivel == 3):\n",
        "  total_tentativas = 5\n",
        "\n",
        "for rodada in range(0,total_tentativas):\n",
        "\n",
        "  print ('Tentativa: {} de {}'.format(rodada + 1, total_tentativas))\n",
        "  \n",
        "  chute_str = input('Digite um número entr 1 e 100:')\n",
        "  print('Você digitou o numero: ', chute_str)\n",
        "  chute = int(chute_str)\n",
        "\n",
        "  if (chute < 1 or chute > 100):\n",
        "    print('Seu número precisa estar entre 1 e 100')\n",
        "    continue\n",
        "\n",
        "  acertou = chute == numero_secreto\n",
        "  menor = chute < numero_secreto\n",
        "\n",
        "  if (acertou):\n",
        "    print('Você acertou!')\n",
        "    break\n",
        "\n",
        "  elif (menor):\n",
        "    print('O seu chute foi menor que o número secreto!')\n",
        "  else:\n",
        "    print('O seu chute foi maior que o número secreto!')\n",
        "\n",
        "\n",
        "print('Fim do jogo, o numero secreto era {}'.format(numero_secreto))\n"
      ],
      "execution_count": null,
      "outputs": []
    }
  ]
}