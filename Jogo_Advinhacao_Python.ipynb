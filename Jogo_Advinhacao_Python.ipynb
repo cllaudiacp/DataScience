{
  "nbformat": 4,
  "nbformat_minor": 0,
  "metadata": {
    "colab": {
      "name": "Jogo_Advinhacao_Python.ipynb",
      "provenance": [],
      "authorship_tag": "ABX9TyMvUuXydsRngqShWa/d5BjR",
      "include_colab_link": true
    },
    "kernelspec": {
      "name": "python3",
      "display_name": "Python 3"
    }
  },
  "cells": [
    {
      "cell_type": "markdown",
      "metadata": {
        "id": "view-in-github",
        "colab_type": "text"
      },
      "source": [
        "<a href=\"https://colab.research.google.com/github/cllaudiacp/DataScience/blob/master/Jogo_Advinhacao_Python.ipynb\" target=\"_parent\"><img src=\"https://colab.research.google.com/assets/colab-badge.svg\" alt=\"Open In Colab\"/></a>"
      ]
    },
    {
      "cell_type": "code",
      "metadata": {
        "id": "psKP01Uo26gX",
        "colab_type": "code",
        "colab": {
          "base_uri": "https://localhost:8080/",
          "height": 204
        },
        "outputId": "bd8c1a6e-1ece-4d8d-d404-9cb756f9af4e"
      },
      "source": [
        "import random\n",
        "\n",
        "print (\"Bem Vindo ao Jogo de Adivinhação\")\n",
        "\n",
        "#Numero Secreto\n",
        "\n",
        "#numero_secreto = random.randrange (1, 101)\n",
        "numero_secreto = random.randint (1, 100)\n",
        "print (numero_secreto)\n",
        "total_tentativas = 5\n",
        "rodada = 1\n",
        "\n",
        "while (rodada <= total_tentativas):\n",
        "\n",
        "    #print ('Tentativa', rodada, 'de', total_tentativas, 'tentativas')\n",
        "    print ('Tentativa: {} de {}'.format(rodada, total_tentativas))\n",
        "\n",
        "    # Usuário entra com número\n",
        "    chute_str = input('Digite um número entre 1 e 100 e boa sorte!')\n",
        "    \n",
        "    #tornando valor digitado em número inteiro\n",
        "    chute = int (chute_str)\n",
        "    \n",
        "    #limitando número de input\n",
        "    if (chute < 1 or chute > 100):\n",
        "    print ('Seu número precisa estar entre 1 e 100. ', chute_str)\n",
        "    continue\n",
        "\n",
        "    #Dica melhoria código\n",
        "    acertou = chute == numero_secreto \n",
        "    menor = chute < numero_secreto\n",
        "\n",
        "    if (acertou):\n",
        "      print ('Parabéns! Você Acertou na Mosca!')\n",
        "      break #este comando pára o loop e sai do While\n",
        "    elif (menor):\n",
        "      print ('Que pena! O seu chute foi menor que o número secreto')\n",
        "    else:\n",
        "      print ('Oops! O seu chute foi maior que o número secreto')\n",
        "\n",
        "    rodada += 1  # esse comando é a mesma coisa que escrever: rodada = rodada + 1\n",
        "\n",
        "print ('Fim de Jogo! O número secreto era: {}'.format(numero_secreto))\n"
      ],
      "execution_count": null,
      "outputs": [
        {
          "output_type": "stream",
          "text": [
            "Bem Vindo ao Jogo de Adivinhação\n",
            "26\n",
            "Tentativa: 1 de 5\n",
            "Digite o seu número e boa sorte!95\n",
            "Você digitou o número:  95\n",
            "Oops! O seu chute foi maior que o número secreto\n",
            "Tentativa: 2 de 5\n",
            "Digite o seu número e boa sorte!26\n",
            "Você digitou o número:  26\n",
            "Parabéns! Você Acertou na Mosca!\n",
            "Fim de Jogo!\n"
          ],
          "name": "stdout"
        }
      ]
    }
  ]
}