{
  "nbformat": 4,
  "nbformat_minor": 0,
  "metadata": {
    "colab": {
      "name": "IngestaoArquivos.ipynb",
      "provenance": [],
      "authorship_tag": "ABX9TyPjTg5NC219WaRMbScDtsNk",
      "include_colab_link": true
    },
    "kernelspec": {
      "name": "python3",
      "display_name": "Python 3"
    }
  },
  "cells": [
    {
      "cell_type": "markdown",
      "metadata": {
        "id": "view-in-github",
        "colab_type": "text"
      },
      "source": [
        "<a href=\"https://colab.research.google.com/github/cllaudiacp/DataScience/blob/master/IngestaoArquivos.ipynb\" target=\"_parent\"><img src=\"https://colab.research.google.com/assets/colab-badge.svg\" alt=\"Open In Colab\"/></a>"
      ]
    },
    {
      "cell_type": "code",
      "metadata": {
        "id": "RGCCWdUQJntv",
        "colab_type": "code",
        "colab": {}
      },
      "source": [
        "!pip install -U -q PyDrive\n",
        "import os\n",
        "from pydrive.auth import GoogleAuth\n",
        "from pydrive.drive import GoogleDrive\n",
        "from google.colab import auth\n",
        "from oauth2client.client import GoogleCredentials\n",
        "import pandas as pd\n",
        "\n",
        "# criando dataframe de arquivos\n",
        "df = pd.DataFrame(columns=['Nome'])\n",
        "\n",
        "# Autenticar e criar o cliente PyDrive.\n",
        "auth.authenticate_user()\n",
        "gauth = GoogleAuth()\n",
        "gauth.credentials = GoogleCredentials.get_application_default()\n",
        "drive = GoogleDrive(gauth)\n",
        "\n",
        "# Escolher um diretório local (colab) para armazenar os dados.\n",
        "local_download_path = os.path.expanduser('~/content/data')\n",
        "try:\n",
        "  os.makedirs(local_download_path)\n",
        "except: pass\n",
        "\n",
        "# repitir usando a sintaxe de consulta\n",
        "#    https://developers.google.com/drive/v2/web/search-parameters\n",
        "file_list = drive.ListFile(\n",
        "    {'q': \"'1XA7oJ2y7VFf1G2FvHvN6kLxVoAsh2bcp' in parents\"}).GetList()\n",
        "print(file_list)\n",
        "for f in file_list:\n",
        "  # Crie e baixe por id\n",
        "  print('title: %s, id: %s' % (f['title'], f['id']))\n",
        "  fname = os.path.join(local_download_path, f['title'])\n",
        "  print('downloading to {}'.format(fname))\n",
        "  f_ = drive.CreateFile({'id': f['id']})\n",
        "  f_.GetContentFile(fname) \n",
        "  df = df.append({'Nome': f['title']}, ignore_index=True)\n",
        "  \n",
        "  "
      ],
      "execution_count": null,
      "outputs": []
    },
    {
      "cell_type": "code",
      "metadata": {
        "id": "cFMj5mNZJx7F",
        "colab_type": "code",
        "colab": {}
      },
      "source": [
        "# ultimo arquivo\n",
        "with open(fname, 'r') as f:\n",
        "  print(f.read())"
      ],
      "execution_count": null,
      "outputs": []
    },
    {
      "cell_type": "code",
      "metadata": {
        "id": "ClSyQg-mJyn2",
        "colab_type": "code",
        "colab": {}
      },
      "source": [
        "#Agora dar uma olhada no arquivo:\n",
        "df #Apresenta as primeiras 10 linhas)"
      ],
      "execution_count": null,
      "outputs": []
    }
  ]
}